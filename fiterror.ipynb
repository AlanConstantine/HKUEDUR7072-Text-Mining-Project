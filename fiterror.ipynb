{
 "cells": [
  {
   "cell_type": "code",
   "execution_count": 5,
   "metadata": {},
   "outputs": [
    {
     "name": "stdout",
     "output_type": "stream",
     "text": [
      "Current key: sHyni9kN5Elhtrmb3Z10f5USPyyn9o0snPCzIqagafM 1\n"
     ]
    }
   ],
   "source": [
    "import pandas as pd\n",
    "import numpy as np\n",
    "\n",
    "import time\n",
    "from datetime import datetime\n",
    "\n",
    "from random import randint\n",
    "\n",
    "import re\n",
    "import string\n",
    "\n",
    "import nltk\n",
    "from nltk.corpus import stopwords\n",
    "\n",
    "from nltk.tokenize import sent_tokenize, word_tokenize\n",
    "from nltk.tokenize import RegexpTokenizer\n",
    "\n",
    "from sklearn.utils import shuffle\n",
    "\n",
    "from tqdm import tqdm\n",
    "\n",
    "import json\n",
    "\n",
    "import paralleldots\n",
    "paralleldots.set_api_key(\"sHyni9kN5Elhtrmb3Z10f5USPyyn9o0snPCzIqagafM\") # laualan@hku.hk\n",
    "print('Current key:', 'sHyni9kN5Elhtrmb3Z10f5USPyyn9o0snPCzIqagafM', 1)\n",
    "\n",
    "\n",
    "keys = [\n",
    "        'DwGe3alGduDGJnE1FT3O112wMDNJhZDnGysR0KFfZgY', # rlalan@outlook.com\n",
    "        'JIkATWugt8LIP3PbQrdm6cfm1hZ4DbouVoyw8oAQqhI', # 394414515@qq.com\n",
    "        'Vf9mBAl7wp0s8Fl43E9aDtVPOZhftIAv0pYJvIlYGD4', # 806124854@qq.com\n",
    "        '8gAwuDOEE92zakGfDXc6PoCtqhVop0htEnEd4IHFe0U', # yleun.lau@gmail.com\n",
    "        'xTNXoCxtbg36jCgT6ArKgyOPJtnJdf5QQpEEKYoSwu8', # alanconstantinelau@gmail.com\n",
    "        'INsEQXjCWuaZJQyzEbHg5Kw6C8liJiHf2DXOHqmHG70', # 122075300@qq.com\n",
    "        'jpctHohVPtW9QlezbIw4hZ8Ftwh8kXD14U7JlR0WRQo', # 274038499@qq.com\n",
    "        'qrJoLzvIQqU1ygqtzWDw2JC59zkBsPqSzLLIeRSxLHA', # 562040899@qq.com\n",
    "        'UtEqIoCXWJN5XiyfgpXJ7gg23LgOu7jVQjl36Xg7UmQ', # wgj0905@hku.hk\n",
    "        'sHyni9kN5Elhtrmb3Z10f5USPyyn9o0snPCzIqagafM' # liuhuan19951021@163.com\n",
    "        ]"
   ]
  },
  {
   "cell_type": "code",
   "execution_count": 18,
   "metadata": {},
   "outputs": [
    {
     "name": "stdout",
     "output_type": "stream",
     "text": [
      "(237671, 7)\n"
     ]
    }
   ],
   "source": [
    "df = pd.read_csv('./reindex_df.csv')\n",
    "print(df.shape)"
   ]
  },
  {
   "cell_type": "code",
   "execution_count": 11,
   "metadata": {},
   "outputs": [
    {
     "data": {
      "text/html": [
       "<div>\n",
       "<style scoped>\n",
       "    .dataframe tbody tr th:only-of-type {\n",
       "        vertical-align: middle;\n",
       "    }\n",
       "\n",
       "    .dataframe tbody tr th {\n",
       "        vertical-align: top;\n",
       "    }\n",
       "\n",
       "    .dataframe thead th {\n",
       "        text-align: right;\n",
       "    }\n",
       "</style>\n",
       "<table border=\"1\" class=\"dataframe\">\n",
       "  <thead>\n",
       "    <tr style=\"text-align: right;\">\n",
       "      <th></th>\n",
       "      <th>index</th>\n",
       "      <th>song</th>\n",
       "      <th>year</th>\n",
       "      <th>artist</th>\n",
       "      <th>genre</th>\n",
       "      <th>lyrics</th>\n",
       "      <th>word_count</th>\n",
       "    </tr>\n",
       "  </thead>\n",
       "  <tbody>\n",
       "    <tr>\n",
       "      <th>0</th>\n",
       "      <td>0</td>\n",
       "      <td>louder-flux-pavilion-doctor-p-remix</td>\n",
       "      <td>2012</td>\n",
       "      <td>dj-fresh</td>\n",
       "      <td>Electronic</td>\n",
       "      <td>I can't control this feeling Something's happe...</td>\n",
       "      <td>341.0</td>\n",
       "    </tr>\n",
       "    <tr>\n",
       "      <th>1</th>\n",
       "      <td>1</td>\n",
       "      <td>that-s-my-name</td>\n",
       "      <td>2009</td>\n",
       "      <td>akcent</td>\n",
       "      <td>Pop</td>\n",
       "      <td>In my heart I will keep you In my heart Foreve...</td>\n",
       "      <td>318.0</td>\n",
       "    </tr>\n",
       "    <tr>\n",
       "      <th>2</th>\n",
       "      <td>2</td>\n",
       "      <td>lemonade</td>\n",
       "      <td>2007</td>\n",
       "      <td>apologetix</td>\n",
       "      <td>Rock</td>\n",
       "      <td>Oh, Mama, I've been cleared of my crimes and I...</td>\n",
       "      <td>250.0</td>\n",
       "    </tr>\n",
       "    <tr>\n",
       "      <th>3</th>\n",
       "      <td>3</td>\n",
       "      <td>return-of-the-hustle</td>\n",
       "      <td>2007</td>\n",
       "      <td>fabolous</td>\n",
       "      <td>Hip-Hop</td>\n",
       "      <td>Record mode! (Record mode!) Get your money in ...</td>\n",
       "      <td>681.0</td>\n",
       "    </tr>\n",
       "    <tr>\n",
       "      <th>4</th>\n",
       "      <td>4</td>\n",
       "      <td>so-sad</td>\n",
       "      <td>1974</td>\n",
       "      <td>george-harrison</td>\n",
       "      <td>Rock</td>\n",
       "      <td>Now the winter has come To eclipse out the sun...</td>\n",
       "      <td>163.0</td>\n",
       "    </tr>\n",
       "  </tbody>\n",
       "</table>\n",
       "</div>"
      ],
      "text/plain": [
       "   index                                 song  year           artist  \\\n",
       "0      0  louder-flux-pavilion-doctor-p-remix  2012         dj-fresh   \n",
       "1      1                       that-s-my-name  2009           akcent   \n",
       "2      2                             lemonade  2007       apologetix   \n",
       "3      3                 return-of-the-hustle  2007         fabolous   \n",
       "4      4                               so-sad  1974  george-harrison   \n",
       "\n",
       "        genre                                             lyrics  word_count  \n",
       "0  Electronic  I can't control this feeling Something's happe...       341.0  \n",
       "1         Pop  In my heart I will keep you In my heart Foreve...       318.0  \n",
       "2        Rock  Oh, Mama, I've been cleared of my crimes and I...       250.0  \n",
       "3     Hip-Hop  Record mode! (Record mode!) Get your money in ...       681.0  \n",
       "4        Rock  Now the winter has come To eclipse out the sun...       163.0  "
      ]
     },
     "execution_count": 11,
     "metadata": {},
     "output_type": "execute_result"
    }
   ],
   "source": [
    "df.head()"
   ]
  },
  {
   "cell_type": "code",
   "execution_count": 13,
   "metadata": {},
   "outputs": [],
   "source": [
    "emo_path = r'./lyrics_emotion-fixed.json'"
   ]
  },
  {
   "cell_type": "code",
   "execution_count": 14,
   "metadata": {},
   "outputs": [],
   "source": [
    "with open(emo_path, 'r') as fn:\n",
    "    emo_dict = json.load(fn)\n",
    "    \n",
    "for k, v in tqdm(emo_dict.items()):\n",
    "    if 'emotion' not in 'v':\n",
    "        lyric = df.loc[df.index == int(k)]['lyrics']\n",
    "        fix(lyric)\n",
    "        break"
   ]
  },
  {
   "cell_type": "code",
   "execution_count": 19,
   "metadata": {},
   "outputs": [],
   "source": [
    "def update_emo(index, emo):\n",
    "    emo['time'] = str(datetime.now())\n",
    "    try:\n",
    "        with open(emo_path, 'r') as fn:\n",
    "            emo_dict = json.load(fn)\n",
    "        emo_dict[index] = emo\n",
    "    except Exception as e:\n",
    "        emo_dict = {}\n",
    "        emo_dict[index] = emo\n",
    "    with open(emo_path, 'w') as fp:\n",
    "        json.dump(emo_dict, fp)\n",
    "    return index\n",
    "\n",
    "def update_error(index):\n",
    "    with open(emo_path, 'a') as fn:\n",
    "        fn.write(str(index) + '\\n')"
   ]
  },
  {
   "cell_type": "code",
   "execution_count": 20,
   "metadata": {},
   "outputs": [
    {
     "ename": "SyntaxError",
     "evalue": "'break' outside loop (<ipython-input-20-4acb00be7d1f>, line 16)",
     "output_type": "error",
     "traceback": [
      "\u001b[0;36m  File \u001b[0;32m\"<ipython-input-20-4acb00be7d1f>\"\u001b[0;36m, line \u001b[0;32m16\u001b[0m\n\u001b[0;31m    update_error(str(index) + '\\t' + str(response['message']))\u001b[0m\n\u001b[0m           ^\u001b[0m\n\u001b[0;31mSyntaxError\u001b[0m\u001b[0;31m:\u001b[0m 'break' outside loop\n"
     ]
    }
   ],
   "source": [
    "def fix(lyrics):\n",
    "    try:\n",
    "        time.sleep(randtime)\n",
    "        response = paralleldots.emotion(lyrics)\n",
    "        if 'code' in response and key_count < len(keys):\n",
    "            key_count += 1\n",
    "            print('Current key:', keys[key_count], key_count + 1)\n",
    "            paralleldots.set_api_key(keys[key_count])\n",
    "            response = paralleldots.emotion(lyrics)\n",
    "        elif key_count == len(keys):\n",
    "            print('Stop at', str(index))\n",
    "            update_error(str(index) + '\\tStop.')\n",
    "            break\n",
    "        elif 'message' in response:\n",
    "            printt('Stop at', str(index))\n",
    "            update_error(str(index) + '\\t' + str(response['message']))\n",
    "            break\n",
    "        elif 'Error' in response:\n",
    "            print('Stop at', str(index))\n",
    "            update_error(str(index) + '\\t' + str(response))\n",
    "            break\n",
    "        elif 'emotion' not in response:\n",
    "            print('Stop at', str(index))\n",
    "            update_error(str(index) + '\\t' + str(response))\n",
    "            break\n",
    "        finished_index = update_emo(index, response)\n",
    "#         print(finished_index, 'done: ', str(round(((index-1)/total)*100, 5)), str(datetime.now()))\n",
    "    except Exception as e:\n",
    "        update_error(str(index) + '\\t' + str(e))\n",
    "        error_count += 1\n",
    "#         print(e)\n",
    "        pass"
   ]
  },
  {
   "cell_type": "code",
   "execution_count": null,
   "metadata": {},
   "outputs": [],
   "source": [
    "with open(emo_path, 'w') as fp:\n",
    "    json.dump(emo_dict, fp)"
   ]
  }
 ],
 "metadata": {
  "kernelspec": {
   "display_name": "Python 3",
   "language": "python",
   "name": "python3"
  },
  "language_info": {
   "codemirror_mode": {
    "name": "ipython",
    "version": 3
   },
   "file_extension": ".py",
   "mimetype": "text/x-python",
   "name": "python",
   "nbconvert_exporter": "python",
   "pygments_lexer": "ipython3",
   "version": "3.7.6"
  }
 },
 "nbformat": 4,
 "nbformat_minor": 4
}
