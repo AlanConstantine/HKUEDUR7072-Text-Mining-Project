{
 "cells": [
  {
   "cell_type": "code",
   "execution_count": 1,
   "metadata": {},
   "outputs": [
    {
     "output_type": "stream",
     "name": "stdout",
     "text": "The history saving thread hit an unexpected error (DatabaseError('database disk image is malformed')).History will not be written to the database.\nCurrent key: Vo6Oh77LXmw5HXMu691RKQIZG03nY1zB9rsVTkhEHqE 1\n"
    }
   ],
   "source": [
    "import pandas as pd\n",
    "import numpy as np\n",
    "\n",
    "import time\n",
    "from datetime import datetime\n",
    "\n",
    "from random import randint\n",
    "\n",
    "import re\n",
    "import string\n",
    "\n",
    "import nltk\n",
    "from nltk.corpus import stopwords\n",
    "\n",
    "from nltk.tokenize import sent_tokenize, word_tokenize\n",
    "from nltk.tokenize import RegexpTokenizer\n",
    "\n",
    "from sklearn.utils import shuffle\n",
    "\n",
    "from tqdm import tqdm\n",
    "\n",
    "import json\n",
    "\n",
    "import paralleldots\n",
    "paralleldots.set_api_key(\"Vo6Oh77LXmw5HXMu691RKQIZG03nY1zB9rsVTkhEHqE\") # lrl818@qq.com\n",
    "print('Current key:', 'Vo6Oh77LXmw5HXMu691RKQIZG03nY1zB9rsVTkhEHqE', 1)\n",
    "\n",
    "\n",
    "\n",
    "keys = ['OwoCuujTTYS5o3Vrx0M4A7RevaHLs7uUHlUD3Afa0XI' # laualan@connect.hku.hk\n",
    "        'DwGe3alGduDGJnE1FT3O112wMDNJhZDnGysR0KFfZgY', # rlalan@outlook.com\n",
    "        # 'JIkATWugt8LIP3PbQrdm6cfm1hZ4DbouVoyw8oAQqhI', # 394414515@qq.com\n",
    "        'Vf9mBAl7wp0s8Fl43E9aDtVPOZhftIAv0pYJvIlYGD4', # 806124854@qq.com\n",
    "        # '8gAwuDOEE92zakGfDXc6PoCtqhVop0htEnEd4IHFe0U', # yleun.lau@gmail.com\n",
    "        'xTNXoCxtbg36jCgT6ArKgyOPJtnJdf5QQpEEKYoSwu8', # alanconstantinelau@gmail.com\n",
    "        'INsEQXjCWuaZJQyzEbHg5Kw6C8liJiHf2DXOHqmHG70', # 122075300@qq.com\n",
    "        'jpctHohVPtW9QlezbIw4hZ8Ftwh8kXD14U7JlR0WRQo', # 274038499@qq.com\n",
    "        'qrJoLzvIQqU1ygqtzWDw2JC59zkBsPqSzLLIeRSxLHA', # 562040899@qq.com\n",
    "        'UtEqIoCXWJN5XiyfgpXJ7gg23LgOu7jVQjl36Xg7UmQ', # wgj0905@hku.hk\n",
    "        'sHyni9kN5Elhtrmb3Z10f5USPyyn9o0snPCzIqagafM' # liuhuan19951021@163.com\n",
    "        ]"
   ]
  },
  {
   "cell_type": "code",
   "execution_count": 2,
   "metadata": {},
   "outputs": [
    {
     "output_type": "stream",
     "name": "stdout",
     "text": "(237671, 7)\n"
    }
   ],
   "source": [
    "df = pd.read_csv('./reindex_df.csv')\n",
    "print(df.shape)"
   ]
  },
  {
   "cell_type": "code",
   "execution_count": 3,
   "metadata": {},
   "outputs": [
    {
     "output_type": "execute_result",
     "data": {
      "text/plain": "   index                                 song  year           artist  \\\n0      0  louder-flux-pavilion-doctor-p-remix  2012         dj-fresh   \n1      1                       that-s-my-name  2009           akcent   \n2      2                             lemonade  2007       apologetix   \n3      3                 return-of-the-hustle  2007         fabolous   \n4      4                               so-sad  1974  george-harrison   \n\n        genre                                             lyrics  word_count  \n0  Electronic  I can't control this feeling Something's happe...       341.0  \n1         Pop  In my heart I will keep you In my heart Foreve...       318.0  \n2        Rock  Oh, Mama, I've been cleared of my crimes and I...       250.0  \n3     Hip-Hop  Record mode! (Record mode!) Get your money in ...       681.0  \n4        Rock  Now the winter has come To eclipse out the sun...       163.0  ",
      "text/html": "<div>\n<style scoped>\n    .dataframe tbody tr th:only-of-type {\n        vertical-align: middle;\n    }\n\n    .dataframe tbody tr th {\n        vertical-align: top;\n    }\n\n    .dataframe thead th {\n        text-align: right;\n    }\n</style>\n<table border=\"1\" class=\"dataframe\">\n  <thead>\n    <tr style=\"text-align: right;\">\n      <th></th>\n      <th>index</th>\n      <th>song</th>\n      <th>year</th>\n      <th>artist</th>\n      <th>genre</th>\n      <th>lyrics</th>\n      <th>word_count</th>\n    </tr>\n  </thead>\n  <tbody>\n    <tr>\n      <th>0</th>\n      <td>0</td>\n      <td>louder-flux-pavilion-doctor-p-remix</td>\n      <td>2012</td>\n      <td>dj-fresh</td>\n      <td>Electronic</td>\n      <td>I can't control this feeling Something's happe...</td>\n      <td>341.0</td>\n    </tr>\n    <tr>\n      <th>1</th>\n      <td>1</td>\n      <td>that-s-my-name</td>\n      <td>2009</td>\n      <td>akcent</td>\n      <td>Pop</td>\n      <td>In my heart I will keep you In my heart Foreve...</td>\n      <td>318.0</td>\n    </tr>\n    <tr>\n      <th>2</th>\n      <td>2</td>\n      <td>lemonade</td>\n      <td>2007</td>\n      <td>apologetix</td>\n      <td>Rock</td>\n      <td>Oh, Mama, I've been cleared of my crimes and I...</td>\n      <td>250.0</td>\n    </tr>\n    <tr>\n      <th>3</th>\n      <td>3</td>\n      <td>return-of-the-hustle</td>\n      <td>2007</td>\n      <td>fabolous</td>\n      <td>Hip-Hop</td>\n      <td>Record mode! (Record mode!) Get your money in ...</td>\n      <td>681.0</td>\n    </tr>\n    <tr>\n      <th>4</th>\n      <td>4</td>\n      <td>so-sad</td>\n      <td>1974</td>\n      <td>george-harrison</td>\n      <td>Rock</td>\n      <td>Now the winter has come To eclipse out the sun...</td>\n      <td>163.0</td>\n    </tr>\n  </tbody>\n</table>\n</div>"
     },
     "metadata": {},
     "execution_count": 3
    }
   ],
   "source": [
    "df.head()"
   ]
  },
  {
   "cell_type": "code",
   "execution_count": 3,
   "metadata": {},
   "outputs": [],
   "source": [
    "emo_path = r'./lyrics_emotion.json'"
   ]
  },
  {
   "cell_type": "code",
   "execution_count": 4,
   "metadata": {},
   "outputs": [],
   "source": [
    "emo_path_out = r'./lyrics_emotion.json'\n",
    "emo_path_error = r'lyrics_emotion_fixed_error'\n",
    "\n",
    "\n",
    "def update_emo(index, emo):\n",
    "    index = index.tolist()[0]\n",
    "    emo['time'] = str(datetime.now())\n",
    "    try:\n",
    "        with open(emo_path_out, 'r') as fn:\n",
    "            emo_dict = json.load(fn)\n",
    "        print(index)\n",
    "        print(emo)\n",
    "        emo_dict[index] = emo\n",
    "    except Exception as e:\n",
    "        emo_dict = {}\n",
    "        emo_dict[index] = emo\n",
    "    with open(emo_path_out, 'w') as fp:\n",
    "        json.dump(emo_dict, fp)\n",
    "    print(index, 'done')\n",
    "    return index\n",
    "\n",
    "def update_error(index):\n",
    "    with open(emo_path_error, 'a') as fn:\n",
    "        fn.write(str(index) + '\\n')"
   ]
  },
  {
   "cell_type": "code",
   "execution_count": 6,
   "metadata": {},
   "outputs": [
    {
     "output_type": "stream",
     "name": "stdout",
     "text": "57591\n{'emotion': {'Fear': 0.3478189009, 'Sad': 0.064125222, 'Bored': 0.0847127163, 'Happy': 0.2378346914, 'Excited': 0.1842108163, 'Angry': 0.0812976532}, 'time': '2020-04-30 10:03:37.139202'}\n57591 done\n57815\n{'emotion': {'Fear': 0.1306483157, 'Sad': 0.0918889361, 'Bored': 0.0900784772, 'Happy': 0.2413221578, 'Excited': 0.3154463353, 'Angry': 0.1306157779}, 'time': '2020-04-30 10:03:40.326837'}\n57815 done\n58970\n{'emotion': {'Fear': 0.1429350827, 'Sad': 0.0291387182, 'Bored': 0.1665469601, 'Happy': 0.1512509848, 'Excited': 0.2438094768, 'Angry': 0.2663187773}, 'time': '2020-04-30 10:03:45.433207'}\n58970 done\n"
    }
   ],
   "source": [
    "with open(emo_path, 'r') as fn:\n",
    "    emo_dict = json.load(fn)\n",
    "  \n",
    "lyric_emo = df['lyrics'].tolist()\n",
    "index_list = df.index.tolist()\n",
    "\n",
    "total = len(index_list)\n",
    "error_count = 0\n",
    "key_count = 0\n",
    "\n",
    "# for i in range(0, len(df)):\n",
    "#     pass\n",
    "for k, v in emo2.items():\n",
    "    randtime = randint(0, 4)\n",
    "    if 'emotion' not in v:\n",
    "        lyrics = df.loc[df.index == int(k)]['lyrics']\n",
    "        index = df.loc[df.index == int(k)]['index']\n",
    "#         print(k)\n",
    "#         print(v)\n",
    "#         break\n",
    "        try:\n",
    "            time.sleep(randtime)\n",
    "            response = paralleldots.emotion(lyrics)\n",
    "            if 'code' in response and key_count < len(keys):\n",
    "                key_count += 1\n",
    "                print('Current key:', keys[key_count], key_count + 1)\n",
    "                paralleldots.set_api_key(keys[key_count])\n",
    "                response = paralleldots.emotion(lyrics)\n",
    "            elif key_count == len(keys):\n",
    "                print('Stop at', str(index))\n",
    "                update_error(str(index) + '\\tStop.')\n",
    "                break\n",
    "            elif 'message' in response:\n",
    "                printt('Stop at', str(index))\n",
    "                update_error(str(index) + '\\t' + str(response['message']))\n",
    "                break\n",
    "            elif 'Error' in response:\n",
    "                print('Stop at', str(index))\n",
    "                update_error(str(index) + '\\t' + str(response))\n",
    "                break\n",
    "            elif 'emotion' not in response:\n",
    "                print('Stop at', str(index))\n",
    "                update_error(str(index) + '\\t' + str(response))\n",
    "                break\n",
    "            finished_index = update_emo(index, response)\n",
    "    #         print(finished_index, 'done: ', str(round(((index-1)/total)*100, 5)), str(datetime.now()))\n",
    "        except Exception as e:\n",
    "            update_error(str(index) + '\\t' + str(e))\n",
    "            error_count += 1\n",
    "            raise e\n",
    "    #         print(e)\n",
    "#             pass\n",
    "#     elif "
   ]
  },
  {
   "cell_type": "code",
   "execution_count": 14,
   "metadata": {},
   "outputs": [],
   "source": [
    "with open(emo_path_out, 'r') as fn:\n",
    "    emo_fixed = json.load(fn)"
   ]
  },
  {
   "cell_type": "code",
   "execution_count": 17,
   "metadata": {},
   "outputs": [],
   "source": [
    "for k, v in emo_fixed.items():\n",
    "    if 'emotion' not in v:\n",
    "        print(k)\n",
    "        print(v)"
   ]
  },
  {
   "cell_type": "code",
   "execution_count": 10,
   "metadata": {},
   "outputs": [
    {
     "output_type": "execute_result",
     "data": {
      "text/plain": "72852"
     },
     "metadata": {},
     "execution_count": 10
    }
   ],
   "source": [
    "len(emo_fixed)"
   ]
  },
  {
   "cell_type": "code",
   "execution_count": 41,
   "metadata": {},
   "outputs": [
    {
     "data": {
      "text/plain": [
       "{'emotion': {'Fear': 0.2107523579,\n",
       "  'Sad': 0.2591371423,\n",
       "  'Bored': 0.0815402242,\n",
       "  'Happy': 0.2017061049,\n",
       "  'Excited': 0.0812641845,\n",
       "  'Angry': 0.1655999862},\n",
       " 'time': '2020-04-27 16:38:49.211029'}"
      ]
     },
     "execution_count": 41,
     "metadata": {},
     "output_type": "execute_result"
    }
   ],
   "source": [
    "emo_fixed['4997']"
   ]
  },
  {
   "cell_type": "code",
   "execution_count": 18,
   "metadata": {},
   "outputs": [
    {
     "output_type": "execute_result",
     "data": {
      "text/plain": "70235"
     },
     "metadata": {},
     "execution_count": 18
    }
   ],
   "source": [
    "len(emo_fixed)"
   ]
  },
  {
   "cell_type": "code",
   "execution_count": 11,
   "metadata": {
    "tags": [
     "outputPrepend",
     "outputPrepend",
     "outputPrepend",
     "outputPrepend",
     "outputPrepend",
     "outputPrepend",
     "outputPrepend",
     "outputPrepend",
     "outputPrepend",
     "outputPrepend",
     "outputPrepend",
     "outputPrepend",
     "outputPrepend",
     "outputPrepend",
     "outputPrepend",
     "outputPrepend",
     "outputPrepend",
     "outputPrepend",
     "outputPrepend",
     "outputPrepend",
     "outputPrepend",
     "outputPrepend",
     "outputPrepend",
     "outputPrepend",
     "outputPrepend",
     "outputPrepend",
     "outputPrepend",
     "outputPrepend",
     "outputPrepend",
     "outputPrepend",
     "outputPrepend",
     "outputPrepend",
     "outputPrepend"
    ]
   },
   "outputs": [],
   "source": [
    "no_id = []\n",
    "\n",
    "for i in range(len(emo2)):\n",
    "    try:\n",
    "        error_i = emo2[str(i)]\n",
    "        # print(error_i)\n",
    "    except Exception as e:\n",
    "        print(e)\n",
    "        no_id.append(i)"
   ]
  },
  {
   "cell_type": "code",
   "execution_count": 16,
   "metadata": {},
   "outputs": [
    {
     "output_type": "execute_result",
     "data": {
      "text/plain": "0"
     },
     "metadata": {},
     "execution_count": 16
    }
   ],
   "source": [
    "len(no_id)"
   ]
  },
  {
   "cell_type": "code",
   "execution_count": 13,
   "metadata": {
    "tags": [
     "outputPrepend",
     "outputPrepend",
     "outputPrepend",
     "outputPrepend",
     "outputPrepend",
     "outputPrepend",
     "outputPrepend",
     "outputPrepend",
     "outputPrepend",
     "outputPrepend",
     "outputPrepend",
     "outputPrepend",
     "outputPrepend",
     "outputPrepend",
     "outputPrepend",
     "outputPrepend",
     "outputPrepend",
     "outputPrepend",
     "outputPrepend",
     "outputPrepend",
     "outputPrepend",
     "outputPrepend",
     "outputPrepend",
     "outputPrepend",
     "outputPrepend",
     "outputPrepend",
     "outputPrepend",
     "outputPrepend",
     "outputPrepend",
     "outputPrepend",
     "outputPrepend",
     "outputPrepend",
     "outputPrepend",
     "outputPrepend",
     "outputPrepend",
     "outputPrepend",
     "outputPrepend",
     "outputPrepend",
     "outputPrepend",
     "outputPrepend",
     "outputPrepend",
     "outputPrepend",
     "outputPrepend",
     "outputPrepend",
     "outputPrepend",
     "outputPrepend",
     "outputPrepend",
     "outputPrepend",
     "outputPrepend",
     "outputPrepend",
     "outputPrepend",
     "outputPrepend",
     "outputPrepend",
     "outputPrepend",
     "outputPrepend",
     "outputPrepend",
     "outputPrepend",
     "outputPrepend",
     "outputPrepend",
     "outputPrepend",
     "outputPrepend",
     "outputPrepend",
     "outputPrepend",
     "outputPrepend",
     "outputPrepend",
     "outputPrepend",
     "outputPrepend",
     "outputPrepend",
     "outputPrepend",
     "outputPrepend",
     "outputPrepend",
     "outputPrepend",
     "outputPrepend",
     "outputPrepend",
     "outputPrepend",
     "outputPrepend",
     "outputPrepend",
     "outputPrepend",
     "outputPrepend",
     "outputPrepend",
     "outputPrepend",
     "outputPrepend",
     "outputPrepend",
     "outputPrepend",
     "outputPrepend",
     "outputPrepend",
     "outputPrepend",
     "outputPrepend",
     "outputPrepend",
     "outputPrepend",
     "outputPrepend",
     "outputPrepend",
     "outputPrepend",
     "outputPrepend",
     "outputPrepend",
     "outputPrepend",
     "outputPrepend",
     "outputPrepend",
     "outputPrepend",
     "outputPrepend",
     "outputPrepend",
     "outputPrepend",
     "outputPrepend",
     "outputPrepend",
     "outputPrepend",
     "outputPrepend",
     "outputPrepend",
     "outputPrepend",
     "outputPrepend",
     "outputPrepend",
     "outputPrepend",
     "outputPrepend",
     "outputPrepend",
     "outputPrepend",
     "outputPrepend",
     "outputPrepend",
     "outputPrepend",
     "outputPrepend",
     "outputPrepend",
     "outputPrepend",
     "outputPrepend",
     "outputPrepend",
     "outputPrepend",
     "outputPrepend",
     "outputPrepend",
     "outputPrepend",
     "outputPrepend",
     "outputPrepend",
     "outputPrepend",
     "outputPrepend",
     "outputPrepend",
     "outputPrepend",
     "outputPrepend",
     "outputPrepend",
     "outputPrepend",
     "outputPrepend",
     "outputPrepend",
     "outputPrepend",
     "outputPrepend",
     "outputPrepend",
     "outputPrepend",
     "outputPrepend",
     "outputPrepend",
     "outputPrepend",
     "outputPrepend",
     "outputPrepend",
     "outputPrepend",
     "outputPrepend",
     "outputPrepend",
     "outputPrepend",
     "outputPrepend",
     "outputPrepend",
     "outputPrepend",
     "outputPrepend",
     "outputPrepend",
     "outputPrepend",
     "outputPrepend",
     "outputPrepend",
     "outputPrepend",
     "outputPrepend",
     "outputPrepend",
     "outputPrepend",
     "outputPrepend",
     "outputPrepend",
     "outputPrepend",
     "outputPrepend",
     "outputPrepend",
     "outputPrepend",
     "outputPrepend",
     "outputPrepend"
    ]
   },
   "outputs": [
    {
     "output_type": "stream",
     "name": "stdout",
     "text": " 0.0250078808, 'Sad': 0.0355582964, 'Bored': 0.0058707759, 'Happy': 0.6934575512, 'Excited': 0.1813129481, 'Angry': 0.0587925476}, 'time': '2020-04-30 10:10:04.484307'}\n59055 done\n59056\n59056\n{'emotion': {'Fear': 0.2288479083, 'Sad': 0.2487068113, 'Bored': 0.0503141283, 'Happy': 0.0963975485, 'Excited': 0.1169697499, 'Angry': 0.2587638538}, 'time': '2020-04-30 10:10:06.952604'}\n59056 done\n59057\n59057\n{'emotion': {'Fear': 0.1497538577, 'Sad': 0.1934457862, 'Bored': 0.0358521323, 'Happy': 0.2769464065, 'Excited': 0.1750467492, 'Angry': 0.1689550682}, 'time': '2020-04-30 10:10:11.776568'}\n59057 done\n59058\n59058\n{'emotion': {'Fear': 0.0365393262, 'Sad': 0.1343393019, 'Bored': 0.0174180191, 'Happy': 0.6600152054, 'Excited': 0.1364156342, 'Angry': 0.0152725132}, 'time': '2020-04-30 10:10:14.164588'}\n59058 done\n59059\n59059\n{'emotion': {'Fear': 0.1271051307, 'Sad': 0.2182603411, 'Bored': 0.0236876736, 'Happy': 0.4128167622, 'Excited': 0.0934152783, 'Angry': 0.1247148141}, 'time': '2020-04-30 10:10:20.602720'}\n59059 done\n59060\n59060\n{'emotion': {'Fear': 0.3017946208, 'Sad': 0.1639858134, 'Bored': 0.075034065, 'Happy': 0.080117799, 'Excited': 0.2697349745, 'Angry': 0.1093327274}, 'time': '2020-04-30 10:10:22.958639'}\n59060 done\n59061\n59061\n{'emotion': {'Fear': 0.0278255062, 'Sad': 0.009387363, 'Bored': 0.0075734958, 'Happy': 0.9167281502, 'Excited': 0.0312258656, 'Angry': 0.0072596192}, 'time': '2020-04-30 10:10:29.197693'}\n59061 done\n59062\n59062\n{'emotion': {'Fear': 0.0626830701, 'Sad': 0.2046656037, 'Bored': 0.009765366, 'Happy': 0.6137954505, 'Excited': 0.0496437829, 'Angry': 0.0594467268}, 'time': '2020-04-30 10:10:32.416714'}\n59062 done\n59063\n59063\n{'emotion': {'Fear': 0.0527717751, 'Sad': 0.0253588951, 'Bored': 0.0153380041, 'Happy': 0.7296567866, 'Excited': 0.1461721409, 'Angry': 0.0307023981}, 'time': '2020-04-30 10:10:34.619095'}\n59063 done\n59064\n59064\n{'emotion': {'Fear': 0.0678076085, 'Sad': 0.0980171916, 'Bored': 0.0304449976, 'Happy': 0.625938623, 'Excited': 0.1228554179, 'Angry': 0.0549361614}, 'time': '2020-04-30 10:10:38.915290'}\n59064 done\n59065\n59065\n{'emotion': {'Fear': 0.077750507, 'Sad': 0.1090070429, 'Bored': 0.0233001492, 'Happy': 0.6142969853, 'Excited': 0.1265089582, 'Angry': 0.0491363574}, 'time': '2020-04-30 10:10:42.173524'}\n59065 done\n59066\n59066\n{'emotion': {'Fear': 0.1082736007, 'Sad': 0.1937097173, 'Bored': 0.023059928, 'Happy': 0.5358584631, 'Excited': 0.0736907047, 'Angry': 0.0654075862}, 'time': '2020-04-30 10:10:48.400992'}\n59066 done\n59067\n59067\n{'emotion': {'Fear': 0.1307078057, 'Sad': 0.3325117089, 'Bored': 0.0, 'Happy': 0.2335222538, 'Excited': 0.2011461107, 'Angry': 0.1021121208}, 'time': '2020-04-30 10:10:54.657215'}\n59067 done\n59068\n59068\n{'emotion': {'Fear': 0.0837222283, 'Sad': 0.0536664073, 'Bored': 0.0050568491, 'Happy': 0.4849167688, 'Excited': 0.3579622889, 'Angry': 0.0146754576}, 'time': '2020-04-30 10:11:00.025374'}\n59068 done\n59069\n59069\n{'emotion': {'Fear': 0.1376080691, 'Sad': 0.0829177859, 'Bored': 0.0, 'Happy': 0.3360840232, 'Excited': 0.3129564153, 'Angry': 0.1304337065}, 'time': '2020-04-30 10:11:05.564785'}\n59069 done\n59070\n59070\n{'emotion': {'Fear': 0.0451449811, 'Sad': 0.0227438141, 'Bored': 0.0124916538, 'Happy': 0.7903408734, 'Excited': 0.1101927746, 'Angry': 0.019085903}, 'time': '2020-04-30 10:11:10.987541'}\n59070 done\n59071\n59071\n{'emotion': {'Fear': 0.220455979, 'Sad': 0.1507678586, 'Bored': 0.0, 'Happy': 0.2406752258, 'Excited': 0.2779009552, 'Angry': 0.1101999814}, 'time': '2020-04-30 10:11:15.230189'}\n59071 done\n59072\n59072\n{'emotion': {'Fear': 0.1771331939, 'Sad': 0.2488521918, 'Bored': 0.0873055571, 'Happy': 0.140840328, 'Excited': 0.1363122015, 'Angry': 0.2095565277}, 'time': '2020-04-30 10:11:18.083608'}\n59072 done\n59073\n59073\n{'emotion': {'Fear': 0.0667513105, 'Sad': 0.0815815156, 'Bored': 0.0334530166, 'Happy': 0.5388579745, 'Excited': 0.227802146, 'Angry': 0.0515540368}, 'time': '2020-04-30 10:11:24.387874'}\n59073 done\n59074\n59074\n{'emotion': {'Fear': 0.072269535, 'Sad': 0.0749957678, 'Bored': 0.3443806636, 'Happy': 0.2306278508, 'Excited': 0.1789090125, 'Angry': 0.0988171703}, 'time': '2020-04-30 10:11:27.691235'}\n59074 done\n59075\n59075\n{'emotion': {'Fear': 0.05003245, 'Sad': 0.0197756728, 'Bored': 0.0241358735, 'Happy': 0.6198665911, 'Excited': 0.2089880612, 'Angry': 0.0772013514}, 'time': '2020-04-30 10:11:32.990631'}\n59075 done\n59076\n59076\n{'emotion': {'Fear': 0.079258595, 'Sad': 0.3478809734, 'Bored': 0.0236222837, 'Happy': 0.3215986445, 'Excited': 0.1752352083, 'Angry': 0.052404295}, 'time': '2020-04-30 10:11:38.236154'}\n59076 done\n59077\n59077\n{'emotion': {'Fear': 0.11711324, 'Sad': 0.1502594163, 'Bored': 0.0530867769, 'Happy': 0.4299630941, 'Excited': 0.1007474272, 'Angry': 0.1488300455}, 'time': '2020-04-30 10:11:43.467778'}\n59077 done\n59078\n59078\n{'emotion': {'Fear': 0.1885555905, 'Sad': 0.3173122009, 'Bored': 0.0353919842, 'Happy': 0.2491795823, 'Excited': 0.1520343478, 'Angry': 0.0575262942}, 'time': '2020-04-30 10:11:48.828166'}\n59078 done\n59079\n59079\n{'emotion': {'Fear': 0.0534484289, 'Sad': 0.1385954545, 'Bored': 0.054946789, 'Happy': 0.5908350322, 'Excited': 0.046673348, 'Angry': 0.1155009474}, 'time': '2020-04-30 10:11:52.223925'}\n59079 done\n59080\n59080\n{'emotion': {'Fear': 0.2623355562, 'Sad': 0.2212182518, 'Bored': 0.0452525671, 'Happy': 0.1442098195, 'Excited': 0.1696635053, 'Angry': 0.1573203002}, 'time': '2020-04-30 10:11:54.542470'}\n59080 done\n59081\n59081\n{'emotion': {'Fear': 0.0290611736, 'Sad': 0.0231341315, 'Bored': 0.0067903359, 'Happy': 0.7840627189, 'Excited': 0.1411653259, 'Angry': 0.0157863142}, 'time': '2020-04-30 10:11:57.908298'}\n59081 done\n59082\n59082\n{'emotion': {'Fear': 0.0352040947, 'Sad': 0.0682095645, 'Bored': 0.0436156303, 'Happy': 0.7309841147, 'Excited': 0.1015948047, 'Angry': 0.020391791}, 'time': '2020-04-30 10:12:04.149520'}\n59082 done\n59083\n59083\n{'emotion': {'Fear': 0.0694757614, 'Sad': 0.0773308639, 'Bored': 0.0111019785, 'Happy': 0.6372087114, 'Excited': 0.1067694889, 'Angry': 0.0981131959}, 'time': '2020-04-30 10:12:07.419833'}\n59083 done\n59084\n59084\n{'emotion': {'Fear': 0.1385166238, 'Sad': 0.1119202477, 'Bored': 0.1144221972, 'Happy': 0.3193594888, 'Excited': 0.1817674164, 'Angry': 0.134014026}, 'time': '2020-04-30 10:12:11.679405'}\n59084 done\n59085\n59085\n{'emotion': {'Fear': 0.1311514054, 'Sad': 0.166715181, 'Bored': 0.2603643015, 'Happy': 0.0656980061, 'Excited': 0.1159457502, 'Angry': 0.2601253558}, 'time': '2020-04-30 10:12:15.991000'}\n59085 done\n59086\n59086\n{'emotion': {'Fear': 0.034060105, 'Sad': 0.0289962656, 'Bored': 0.0346105858, 'Happy': 0.6838030989, 'Excited': 0.2007480134, 'Angry': 0.0177819313}, 'time': '2020-04-30 10:12:19.257871'}\n59086 done\n59087\n59087\n{'emotion': {'Fear': 0.0637798813, 'Sad': 0.1039913311, 'Bored': 0.0483670139, 'Happy': 0.5423678257, 'Excited': 0.1760106091, 'Angry': 0.0654833389}, 'time': '2020-04-30 10:12:25.104693'}\n59087 done\n59088\n59088\n{'emotion': {'Fear': 0.0504668783, 'Sad': 0.0858273744, 'Bored': 0.046912753, 'Happy': 0.6141398866, 'Excited': 0.1110001492, 'Angry': 0.0916529585}, 'time': '2020-04-30 10:12:27.721627'}\n59088 done\n59089\n59089\n{'emotion': {'Fear': 0.1127777807, 'Sad': 0.360121322, 'Bored': 0.0264203638, 'Happy': 0.1677743056, 'Excited': 0.0365387087, 'Angry': 0.2963675192}, 'time': '2020-04-30 10:12:30.333825'}\n59089 done\n59090\n59090\n{'emotion': {'Fear': 0.0548629052, 'Sad': 0.0561632538, 'Bored': 0.0539388804, 'Happy': 0.6583197523, 'Excited': 0.1525442674, 'Angry': 0.0241709409}, 'time': '2020-04-30 10:12:37.053793'}\n59090 done\n59091\n59091\n{'emotion': {'Fear': 0.0536630897, 'Sad': 0.0808835524, 'Bored': 0.0124368521, 'Happy': 0.5454041813, 'Excited': 0.233044718, 'Angry': 0.0745676065}, 'time': '2020-04-30 10:12:40.761864'}\n59091 done\n59092\n59092\n{'emotion': {'Fear': 0.2519501648, 'Sad': 0.0796194545, 'Bored': 0.0718529631, 'Happy': 0.2332806594, 'Excited': 0.2315964521, 'Angry': 0.1317003061}, 'time': '2020-04-30 10:12:44.707823'}\n59092 done\n59093\n59093\n{'emotion': {'Fear': 0.2003377871, 'Sad': 0.1273439156, 'Bored': 0.1362684459, 'Happy': 0.1967675064, 'Excited': 0.2672501793, 'Angry': 0.0720321657}, 'time': '2020-04-30 10:12:47.412519'}\n59093 done\n59094\n59094\n{'emotion': {'Fear': 0.2249874511, 'Sad': 0.1468825931, 'Bored': 0.1059378121, 'Happy': 0.1567730365, 'Excited': 0.1087812704, 'Angry': 0.2566378368}, 'time': '2020-04-30 10:12:54.251632'}\n59094 done\n59095\n59095\n{'emotion': {'Fear': 0.0288558876, 'Sad': 0.026980382, 'Bored': 0.0103706931, 'Happy': 0.8280072315, 'Excited': 0.0867813089, 'Angry': 0.0190044969}, 'time': '2020-04-30 10:13:00.554409'}\n59095 done\n59096\n59096\n{'emotion': {'Fear': 0.1062243923, 'Sad': 0.096362672, 'Bored': 0.0233837777, 'Happy': 0.6421533837, 'Excited': 0.0932759011, 'Angry': 0.0385998733}, 'time': '2020-04-30 10:13:04.630669'}\n59096 done\n59097\n59097\n{'emotion': {'Fear': 0.0760710058, 'Sad': 0.2663680469, 'Bored': 0.126011505, 'Happy': 0.2550433156, 'Excited': 0.118648848, 'Angry': 0.1578572787}, 'time': '2020-04-30 10:13:07.151684'}\n59097 done\n59098\n59098\n{'emotion': {'Fear': 0.1745919599, 'Sad': 0.372963018, 'Bored': 0.0946321156, 'Happy': 0.1456627127, 'Excited': 0.0644258195, 'Angry': 0.1477243743}, 'time': '2020-04-30 10:13:09.788463'}\n59098 done\n59099\n59099\n{'emotion': {'Fear': 0.1311064187, 'Sad': 0.2192475958, 'Bored': 0.0671555659, 'Happy': 0.3232198941, 'Excited': 0.1325999968, 'Angry': 0.1266705287}, 'time': '2020-04-30 10:13:12.695073'}\n59099 done\n59100\n59100\n{'emotion': {'Fear': 0.3126880543, 'Sad': 0.197508636, 'Bored': 0.048514251, 'Happy': 0.1305973418, 'Excited': 0.1086969085, 'Angry': 0.2019948084}, 'time': '2020-04-30 10:13:19.275329'}\n59100 done\n59101\n59101\n{'emotion': {'Fear': 0.1306780721, 'Sad': 0.1021997967, 'Bored': 0.4106907131, 'Happy': 0.1769356272, 'Excited': 0.1491062263, 'Angry': 0.0303895646}, 'time': '2020-04-30 10:13:24.778294'}\n59101 done\n59102\n59102\n{'emotion': {'Fear': 0.1929515768, 'Sad': 0.1071115617, 'Bored': 0.0814247859, 'Happy': 0.2741400863, 'Excited': 0.1942690043, 'Angry': 0.150102985}, 'time': '2020-04-30 10:13:29.233583'}\n59102 done\n59103\n59103\n{'emotion': {'Fear': 0.255193956, 'Sad': 0.2231476365, 'Bored': 0.0309793729, 'Happy': 0.1892113522, 'Excited': 0.1455246693, 'Angry': 0.1559430131}, 'time': '2020-04-30 10:13:34.769745'}\n59103 done\n59104\n59104\n{'emotion': {'Fear': 0.0561412836, 'Sad': 0.1727916532, 'Bored': 0.0286411192, 'Happy': 0.5961095092, 'Excited': 0.1156727649, 'Angry': 0.0306436699}, 'time': '2020-04-30 10:13:39.605540'}\n59104 done\n59105\n59105\n{'emotion': {'Fear': 0.2026751842, 'Sad': 0.109424583, 'Bored': 0.154263697, 'Happy': 0.3183635661, 'Excited': 0.1756479539, 'Angry': 0.0396250158}, 'time': '2020-04-30 10:13:41.880852'}\n59105 done\n59106\n59106\n{'emotion': {'Fear': 0.0199683875, 'Sad': 0.0324937862, 'Bored': 0.01006267, 'Happy': 0.4614413967, 'Excited': 0.451759024, 'Angry': 0.0242747356}, 'time': '2020-04-30 10:13:45.252702'}\n59106 done\n59107\n59107\n{'emotion': {'Fear': 0.0538308536, 'Sad': 0.0078029013, 'Bored': 0.0248889388, 'Happy': 0.3722952959, 'Excited': 0.3270914887, 'Angry': 0.2140905217}, 'time': '2020-04-30 10:13:47.528271'}\n59107 done\n59108\n59108\n{'emotion': {'Fear': 0.0289519182, 'Sad': 0.0424012993, 'Bored': 0.0062483492, 'Happy': 0.7877678844, 'Excited': 0.1174509521, 'Angry': 0.0171795967}, 'time': '2020-04-30 10:13:51.633507'}\n59108 done\n59109\n59109\n{'emotion': {'Fear': 0.0264715746, 'Sad': 0.0260660176, 'Bored': 0.0194546609, 'Happy': 0.7102311752, 'Excited': 0.1892715516, 'Angry': 0.0285050202}, 'time': '2020-04-30 10:13:55.305236'}\n59109 done\n59110\n59110\n{'emotion': {'Fear': 0.3975225406, 'Sad': 0.2232399471, 'Bored': 0.0905840618, 'Happy': 0.0604462246, 'Excited': 0.0632369947, 'Angry': 0.1649702312}, 'time': '2020-04-30 10:13:57.419951'}\n59110 done\n59111\n59111\n{'emotion': {'Fear': 0.1165392476, 'Sad': 0.054724374, 'Bored': 0.2472112, 'Happy': 0.1757546747, 'Excited': 0.1888184794, 'Angry': 0.2169520243}, 'time': '2020-04-30 10:14:01.605776'}\n59111 done\n59112\n59112\n{'emotion': {'Fear': 0.1140883484, 'Sad': 0.074057788, 'Bored': 0.242300399, 'Happy': 0.235326151, 'Excited': 0.125772564, 'Angry': 0.2084547496}, 'time': '2020-04-30 10:14:06.731509'}\n59112 done\n59113\n59113\n{'emotion': {'Fear': 0.0864438301, 'Sad': 0.2056253376, 'Bored': 0.0250685642, 'Happy': 0.4131433309, 'Excited': 0.1889578796, 'Angry': 0.0807610575}, 'time': '2020-04-30 10:14:08.834422'}\n59113 done\n59114\n59114\n{'emotion': {'Fear': 0.0447828678, 'Sad': 0.2819869365, 'Bored': 0.0242779192, 'Happy': 0.5702611296, 'Excited': 0.0417655596, 'Angry': 0.0369255873}, 'time': '2020-04-30 10:14:14.213157'}\n59114 done\n59115\n59115\n{'emotion': {'Fear': 0.0859915258, 'Sad': 0.0674394872, 'Bored': 0.0097801567, 'Happy': 0.6294689349, 'Excited': 0.1821800329, 'Angry': 0.0251398625}, 'time': '2020-04-30 10:14:19.492780'}\n59115 done\n59116\n59116\n{'emotion': {'Fear': 0.0226219637, 'Sad': 0.0196998886, 'Bored': 0.0067739375, 'Happy': 0.8510673758, 'Excited': 0.0906738539, 'Angry': 0.0091629804}, 'time': '2020-04-30 10:14:22.236132'}\n59116 done\n59117\n59117\n{'emotion': {'Fear': 0.0303176177, 'Sad': 0.0595593529, 'Bored': 0.0120606264, 'Happy': 0.7192617854, 'Excited': 0.1667012199, 'Angry': 0.0120993977}, 'time': '2020-04-30 10:14:26.369603'}\n59117 done\n59118\n59118\n{'emotion': {'Fear': 0.0275320276, 'Sad': 0.1510788849, 'Bored': 0.0093710567, 'Happy': 0.7097510862, 'Excited': 0.0750028268, 'Angry': 0.0272641177}, 'time': '2020-04-30 10:14:32.973253'}\n59118 done\n59119\n59119\n{'emotion': {'Fear': 0.05776506, 'Sad': 0.1197122754, 'Bored': 0.0454611165, 'Happy': 0.6294046531, 'Excited': 0.0713397277, 'Angry': 0.0763171673}, 'time': '2020-04-30 10:14:36.218706'}\n59119 done\n59120\n59120\n{'emotion': {'Fear': 0.1641685856, 'Sad': 0.0229342898, 'Bored': 0.1335354533, 'Happy': 0.3283466621, 'Excited': 0.275990507, 'Angry': 0.0750245022}, 'time': '2020-04-30 10:14:42.796004'}\n59120 done\n59121\n59121\n{'emotion': {'Fear': 0.1829757656, 'Sad': 0.033671867, 'Bored': 0.0660084346, 'Happy': 0.3583510903, 'Excited': 0.2300877499, 'Angry': 0.1289050925}, 'time': '2020-04-30 10:14:45.038914'}\n59121 done\n59122\n59122\n{'emotion': {'Fear': 0.0132853459, 'Sad': 0.0255402651, 'Bored': 0.0071250869, 'Happy': 0.582819977, 'Excited': 0.3528009476, 'Angry': 0.0184283775}, 'time': '2020-04-30 10:14:51.232350'}\n59122 done\n59123\n59123\n{'emotion': {'Fear': 0.1504251976, 'Sad': 0.2693255019, 'Bored': 0.0349726631, 'Happy': 0.0278356682, 'Excited': 0.0499327297, 'Angry': 0.4675082395}, 'time': '2020-04-30 10:14:53.476851'}\n59123 done\n59124\n59124\n{'emotion': {'Fear': 0.0947370421, 'Sad': 0.129085534, 'Bored': 0.1247829895, 'Happy': 0.3034041339, 'Excited': 0.2442148675, 'Angry': 0.1037754331}, 'time': '2020-04-30 10:14:58.584402'}\n59124 done\n59125\n59125\n{'emotion': {'Fear': 0.0346726795, 'Sad': 0.0598755983, 'Bored': 0.0073870718, 'Happy': 0.6717221542, 'Excited': 0.2097386067, 'Angry': 0.0166038895}, 'time': '2020-04-30 10:15:02.695543'}\n59125 done\n59126\n59126\n{'emotion': {'Fear': 0.0621446698, 'Sad': 0.2452988383, 'Bored': 0.0838960038, 'Happy': 0.3701877482, 'Excited': 0.0948382727, 'Angry': 0.1436344672}, 'time': '2020-04-30 10:15:08.193242'}\n59126 done\n59127\n59127\n{'emotion': {'Fear': 0.0144958013, 'Sad': 0.0308692039, 'Bored': 0.0079522097, 'Happy': 0.7221534396, 'Excited': 0.2168733772, 'Angry': 0.0076559683}, 'time': '2020-04-30 10:15:14.707414'}\n59127 done\n59128\n59128\n{'emotion': {'Fear': 0.2341452814, 'Sad': 0.1181976897, 'Bored': 0.0, 'Happy': 0.3934146362, 'Excited': 0.1967903247, 'Angry': 0.0574520679}, 'time': '2020-04-30 10:15:19.824552'}\n59128 done\n59129\n59129\n{'emotion': {'Fear': 0.0276698073, 'Sad': 0.0230701663, 'Bored': 0.0092567689, 'Happy': 0.6826756751, 'Excited': 0.2504470095, 'Angry': 0.0068805729}, 'time': '2020-04-30 10:15:23.056004'}\n59129 done\n59130\n59130\n{'emotion': {'Fear': 0.1051138615, 'Sad': 0.2112696942, 'Bored': 0.1410937495, 'Happy': 0.261182508, 'Excited': 0.163765616, 'Angry': 0.1175745708}, 'time': '2020-04-30 10:15:26.112727'}\n59130 done\n59131\n59131\n{'emotion': {'Fear': 0.0775887112, 'Sad': 0.0315699719, 'Bored': 0.5606027875, 'Happy': 0.1606303704, 'Excited': 0.0910898937, 'Angry': 0.0785182652}, 'time': '2020-04-30 10:15:28.203352'}\n59131 done\n59132\n59132\n{'emotion': {'Fear': 0.0993338359, 'Sad': 0.0965849095, 'Bored': 0.0491667918, 'Happy': 0.5608911043, 'Excited': 0.0923684109, 'Angry': 0.1016549477}, 'time': '2020-04-30 10:15:32.844162'}\n59132 done\n59133\n59133\n{'emotion': {'Fear': 0.0084531368, 'Sad': 0.0278095458, 'Bored': 0.004940814, 'Happy': 0.8715988717, 'Excited': 0.0819355997, 'Angry': 0.005262032}, 'time': '2020-04-30 10:15:37.876814'}\n59133 done\n59134\n59134\n{'emotion': {'Fear': 0.0972410398, 'Sad': 0.0438117985, 'Bored': 0.0513450818, 'Happy': 0.3512220025, 'Excited': 0.3591574645, 'Angry': 0.0972226129}, 'time': '2020-04-30 10:15:44.463020'}\n59134 done\n59135\n59135\n{'emotion': {'Fear': 0.0363629542, 'Sad': 0.2388631658, 'Bored': 0.0080684273, 'Happy': 0.6261887805, 'Excited': 0.0693955923, 'Angry': 0.0211210799}, 'time': '2020-04-30 10:15:46.764303'}\n59135 done\n59136\n59136\n{'emotion': {'Fear': 0.0158578108, 'Sad': 0.014713408, 'Bored': 0.002797468, 'Happy': 0.843755623, 'Excited': 0.1143347331, 'Angry': 0.0085409571}, 'time': '2020-04-30 10:15:52.961115'}\n59136 done\n59137\n59137\n{'emotion': {'Fear': 0.0798105256, 'Sad': 0.0595467923, 'Bored': 0.0426506434, 'Happy': 0.4210377494, 'Excited': 0.3459200991, 'Angry': 0.0510341903}, 'time': '2020-04-30 10:15:56.175742'}\n59137 done\n59138\n59138\n{'emotion': {'Fear': 0.0232992097, 'Sad': 0.1609910274, 'Bored': 0.0114725613, 'Happy': 0.7073878456, 'Excited': 0.0744278815, 'Angry': 0.0224214745}, 'time': '2020-04-30 10:16:00.264364'}\n59138 done\n59139\n59139\n{'emotion': {'Fear': 0.1591819695, 'Sad': 0.0772961133, 'Bored': 0.067266811, 'Happy': 0.3912305967, 'Excited': 0.2022314655, 'Angry': 0.102793044}, 'time': '2020-04-30 10:16:06.404818'}\n59139 done\n59140\n59140\n{'emotion': {'Fear': 0.1026874673, 'Sad': 0.2760366761, 'Bored': 0.0795554219, 'Happy': 0.371831087, 'Excited': 0.0562934692, 'Angry': 0.1135958785}, 'time': '2020-04-30 10:16:12.560661'}\n59140 done\n59141\n59141\n{'emotion': {'Fear': 0.3540415382, 'Sad': 0.2767996513, 'Bored': 0.0284814076, 'Happy': 0.0548726699, 'Excited': 0.0977037973, 'Angry': 0.1881009358}, 'time': '2020-04-30 10:16:17.572318'}\n59141 done\n59142\n59142\n{'emotion': {'Fear': 0.1743892663, 'Sad': 0.3930699429, 'Bored': 0.090323857, 'Happy': 0.0700791176, 'Excited': 0.1051042913, 'Angry': 0.167033525}, 'time': '2020-04-30 10:16:21.295267'}\n59142 done\n59143\n59143\n{'emotion': {'Fear': 0.0652223377, 'Sad': 0.1067036491, 'Bored': 0.1336566422, 'Happy': 0.3545883061, 'Excited': 0.2469461594, 'Angry': 0.0928829056}, 'time': '2020-04-30 10:16:24.350409'}\n59143 done\n59144\n59144\n{'emotion': {'Fear': 0.1314051591, 'Sad': 0.2751621855, 'Bored': 0.0636970548, 'Happy': 0.3603150343, 'Excited': 0.0709157765, 'Angry': 0.0985047899}, 'time': '2020-04-30 10:16:29.799971'}\n59144 done\n59145\n59145\n{'emotion': {'Fear': 0.1091546773, 'Sad': 0.1447816101, 'Bored': 0.0924138369, 'Happy': 0.4741492329, 'Excited': 0.147815412, 'Angry': 0.0316852308}, 'time': '2020-04-30 10:16:35.379982'}\n59145 done\n59146\n59146\n{'emotion': {'Fear': 0.1256033421, 'Sad': 0.2570904, 'Bored': 0.0186655698, 'Happy': 0.4099860354, 'Excited': 0.1415916761, 'Angry': 0.0470629767}, 'time': '2020-04-30 10:16:38.576255'}\n59146 done\n63662\n63662\n{'emotion': {'Fear': 0.0339644306, 'Sad': 0.0350421677, 'Bored': 0.012554188, 'Happy': 0.5443428652, 'Excited': 0.3667771747, 'Angry': 0.0073191738}, 'time': '2020-04-30 10:16:44.979029'}\n63662 done\n63663\n63663\n{'emotion': {'Fear': 0.0307930963, 'Sad': 0.0304409114, 'Bored': 0.0099215455, 'Happy': 0.5304209247, 'Excited': 0.3785973735, 'Angry': 0.0198261487}, 'time': '2020-04-30 10:16:47.025182'}\n63663 done\n71197\n71197\n{'emotion': {'Fear': 0.0146902053, 'Sad': 0.0220001495, 'Bored': 0.0053822224, 'Happy': 0.8268545019, 'Excited': 0.1262687033, 'Angry': 0.0048042176}, 'time': '2020-04-30 10:16:53.103455'}\n71197 done\n"
    }
   ],
   "source": [
    "total = len(index_list)\n",
    "error_count = 0\n",
    "key_count = 0\n",
    "\n",
    "# for i in range(0, len(df)):\n",
    "#     pass\n",
    "for k in no_id:\n",
    "    randtime = randint(0, 4)\n",
    "    # if 'emotion' not in v:\n",
    "    lyrics = df.loc[df.index == int(k)]['lyrics']\n",
    "    index = df.loc[df.index == int(k)]['index']\n",
    "    print(k)\n",
    "#         print(v)\n",
    "#         break\n",
    "    try:\n",
    "        time.sleep(randtime)\n",
    "        response = paralleldots.emotion(lyrics)\n",
    "        if 'code' in response and key_count < len(keys):\n",
    "            key_count += 1\n",
    "            print('Current key:', keys[key_count], key_count + 1)\n",
    "            paralleldots.set_api_key(keys[key_count])\n",
    "            response = paralleldots.emotion(lyrics)\n",
    "        elif key_count == len(keys):\n",
    "            print('Stop at', str(index))\n",
    "            update_error(str(index) + '\\tStop.')\n",
    "            break\n",
    "        elif 'message' in response:\n",
    "            printt('Stop at', str(index))\n",
    "            update_error(str(index) + '\\t' + str(response['message']))\n",
    "            break\n",
    "        elif 'Error' in response:\n",
    "            print('Stop at', str(index))\n",
    "            update_error(str(index) + '\\t' + str(response))\n",
    "            break\n",
    "        elif 'emotion' not in response:\n",
    "            print('Stop at', str(index))\n",
    "            update_error(str(index) + '\\t' + str(response))\n",
    "            break\n",
    "        finished_index = update_emo(index, response)\n",
    "#         print(finished_index, 'done: ', str(round(((index-1)/total)*100, 5)), str(datetime.now()))\n",
    "    except Exception as e:\n",
    "        update_error(str(index) + '\\t' + str(e))\n",
    "        error_count += 1\n",
    "        raise e\n",
    "    #         print(e)\n",
    "#             pass\n",
    "#     elif "
   ]
  },
  {
   "cell_type": "code",
   "execution_count": 5,
   "metadata": {},
   "outputs": [],
   "source": [
    "with open('./lyrics_emotion_old.json', 'r') as f:\n",
    "    emo1 = json.load(f)"
   ]
  },
  {
   "cell_type": "code",
   "execution_count": 6,
   "metadata": {},
   "outputs": [
    {
     "output_type": "execute_result",
     "data": {
      "text/plain": "73031"
     },
     "metadata": {},
     "execution_count": 6
    }
   ],
   "source": [
    "len(emo1)"
   ]
  },
  {
   "cell_type": "code",
   "execution_count": 12,
   "metadata": {},
   "outputs": [],
   "source": [
    "with open('./lyrics_emotion.json', 'r') as f:\n",
    "    emo2 = json.load(f)"
   ]
  },
  {
   "cell_type": "code",
   "execution_count": 13,
   "metadata": {},
   "outputs": [
    {
     "output_type": "execute_result",
     "data": {
      "text/plain": "74413"
     },
     "metadata": {},
     "execution_count": 13
    }
   ],
   "source": [
    "len(emo2)"
   ]
  },
  {
   "cell_type": "code",
   "execution_count": 14,
   "metadata": {},
   "outputs": [],
   "source": [
    "emo2.update(emo1)"
   ]
  },
  {
   "cell_type": "code",
   "execution_count": 15,
   "metadata": {},
   "outputs": [
    {
     "output_type": "execute_result",
     "data": {
      "text/plain": "74592"
     },
     "metadata": {},
     "execution_count": 15
    }
   ],
   "source": [
    "len(emo2)"
   ]
  },
  {
   "cell_type": "code",
   "execution_count": 12,
   "metadata": {},
   "outputs": [
    {
     "output_type": "execute_result",
     "data": {
      "text/plain": "73030"
     },
     "metadata": {},
     "execution_count": 12
    }
   ],
   "source": [
    "max(list(map(lambda x: int(x), list(emo2.keys()))))"
   ]
  },
  {
   "cell_type": "code",
   "execution_count": 16,
   "metadata": {},
   "outputs": [],
   "source": [
    "with open('./lyrics_emotion.json', 'w') as f:\n",
    "    json.dump(emo2, f)"
   ]
  },
  {
   "cell_type": "code",
   "execution_count": null,
   "metadata": {},
   "outputs": [],
   "source": []
  }
 ],
 "metadata": {
  "kernelspec": {
   "display_name": "Python 3",
   "language": "python",
   "name": "python3"
  },
  "language_info": {
   "codemirror_mode": {
    "name": "ipython",
    "version": 3
   },
   "file_extension": ".py",
   "mimetype": "text/x-python",
   "name": "python",
   "nbconvert_exporter": "python",
   "pygments_lexer": "ipython3",
   "version": "3.7.6-final"
  }
 },
 "nbformat": 4,
 "nbformat_minor": 4
}